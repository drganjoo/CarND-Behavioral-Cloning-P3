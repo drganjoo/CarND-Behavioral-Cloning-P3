{
 "cells": [
  {
   "cell_type": "code",
   "execution_count": 37,
   "metadata": {
    "collapsed": true
   },
   "outputs": [],
   "source": [
    "def display_data_stats(steering):\n",
    "    if not type(steering) is np.ndarray:\n",
    "        steering = np.array(steering)\n",
    "        \n",
    "    left_steering = steering[steering < 0]\n",
    "    right_steering = steering[steering > 0]\n",
    "    straight_steering = steering[steering == 0]\n",
    "\n",
    "    std = np.std(steering)\n",
    "\n",
    "    print('Steering Mean: {:.3f} Standard Deviation: {:.2f}'.format(np.mean(steering), std))\n",
    "    print('Left steering samples: {} ({:<.2f}%)'.format(len(left_steering), len(left_steering) / len(steering) * 100))\n",
    "    print('Right steering samples: {} ({:<.2f}%)'.format(len(right_steering), len(right_steering) / len(steering) * 100))\n",
    "    print('Straight samples: {} ({:<.2f}%)'.format(len(straight_steering), len(straight_steering) / len(steering) * 100))\n",
    "\n",
    "    hist, bins = np.histogram(steering, sbins=np.linspace(-1,1,21))\n",
    "\n",
    "    plt.bar(bins[:-1], hist)\n",
    "    plt.title('Distribution of steering angles')\n",
    "    plt.show()"
   ]
  },
  {
   "cell_type": "code",
   "execution_count": 39,
   "metadata": {},
   "outputs": [
    {
     "name": "stdout",
     "output_type": "stream",
     "text": [
      "|-1.00 | 4| 0.050 % |\n",
      "|-0.90 | 1| 0.012 % |\n",
      "|-0.80 | 2| 0.025 % |\n",
      "|-0.70 | 6| 0.075 % |\n",
      "|-0.60 | 11| 0.137 % |\n",
      "|-0.50 | 62| 0.772 % |\n",
      "|-0.40 | 78| 0.971 % |\n",
      "|-0.30 | 300| 3.733 % |\n",
      "|-0.20 | 473| 5.886 % |\n",
      "|-0.10 | 838| 10.428 % |\n",
      "|0.00 | 5085| 63.278 % |\n",
      "|0.10 | 781| 9.719 % |\n",
      "|0.20 | 161| 2.003 % |\n",
      "|0.30 | 172| 2.140 % |\n",
      "|0.40 | 42| 0.523 % |\n",
      "|0.50 | 12| 0.149 % |\n",
      "|0.60 | 5| 0.062 % |\n",
      "|0.70 | 1| 0.012 % |\n",
      "|0.80 | 0| 0.000 % |\n",
      "|0.90 | 2| 0.025 % |\n"
     ]
    },
    {
     "data": {
      "image/png": "[encoded data removed]",
      "text/plain": [
       "<matplotlib.figure.Figure at 0x7fdeda9477b8>"
      ]
     },
     "metadata": {},
     "output_type": "display_data"
    }
   ],
   "source": [
    "import pandas as pd\n",
    "import numpy as np\n",
    "import matplotlib.pyplot as plt\n",
    "\n",
    "data = pd.read_csv(\"../sim-data/sample-data/driving_log.csv\")\n",
    "y_steering = data.steering\n",
    "total = len(y_steering)\n",
    "\n",
    "count, bins = np.histogram(y_steering, bins=np.linspace(-1,1,21))\n",
    "\n",
    "for b, c in zip(bins, count):\n",
    "    print(\"|{:.2f} | {}| {:.3f} % |\".format(b, c, c / total * 100))\n",
    "    \n",
    "plt.bar(bins[:-1], count)\n",
    "plt.show()"
   ]
  },
  {
   "cell_type": "code",
   "execution_count": 40,
   "metadata": {},
   "outputs": [
    {
     "name": "stdout",
     "output_type": "stream",
     "text": [
      "Multi load\n",
      "Loading  ../sim-data/sample-data\n",
      "Steering len:  8036\n",
      "Image loader len:  8036\n",
      "Loading  ../sim-data/reverse\n",
      "Steering len:  10763\n",
      "Image loader len:  10763\n",
      "Loading  ../sim-data/sides\n",
      "Steering len:  11408\n",
      "Image loader len:  11408\n",
      "Loading  ../sim-data/normal\n",
      "Steering len:  14017\n",
      "Image loader len:  14017\n",
      "All folderes loaded\n",
      "Steering len:  14017\n",
      "Image loader len:  14017\n",
      "Choosing validation..\n",
      "Before augmenting data: 9811\n",
      "Using left and right camera images\n",
      "Flipping images > 0.1 angle, before this: 19622\n",
      "Changing brightness, before this: 21364\n",
      "After augmenting data: 40986\n",
      "Total validation data: 4206\n",
      "45192\n",
      "|-1.00 | 84| 0.186 % |\n",
      "|-0.90 | 44| 0.097 % |\n",
      "|-0.80 | 106| 0.235 % |\n",
      "|-0.70 | 144| 0.319 % |\n",
      "|-0.60 | 341| 0.755 % |\n",
      "|-0.50 | 887| 1.963 % |\n",
      "|-0.40 | 6830| 15.113 % |\n",
      "|-0.30 | 2040| 4.514 % |\n",
      "|-0.20 | 3506| 7.758 % |\n",
      "|-0.10 | 3319| 7.344 % |\n",
      "|0.00 | 15461| 34.212 % |\n",
      "|0.10 | 2561| 5.667 % |\n",
      "|0.20 | 6842| 15.140 % |\n",
      "|0.30 | 1461| 3.233 % |\n",
      "|0.40 | 915| 2.025 % |\n",
      "|0.50 | 223| 0.493 % |\n",
      "|0.60 | 188| 0.416 % |\n",
      "|0.70 | 109| 0.241 % |\n",
      "|0.80 | 15| 0.033 % |\n",
      "|0.90 | 37| 0.082 % |\n"
     ]
    },
    {
     "data": {
      "image/png": "[encoded data removed]",
      "text/plain": [
       "<matplotlib.figure.Figure at 0x7fdedad37518>"
      ]
     },
     "metadata": {},
     "output_type": "display_data"
    }
   ],
   "source": [
    "from generator import AugmentedMultiFolderGenerator\n",
    "\n",
    "gen = AugmentedMultiFolderGenerator(batch_size = 128, val_percent = 0.3)\n",
    "gen.load(\"../sim-data\")\n",
    "gen.shuffle_training()\n",
    "\n",
    "steering = gen.y_steering\n",
    "steering = np.hstack((steering, gen.y_steering_augmented))\n",
    "\n",
    "total = len(steering)\n",
    "print(total)\n",
    "\n",
    "count, bins = np.histogram(steering, bins=np.linspace(-1,1,21))\n",
    "\n",
    "for b, c in zip(bins, count):\n",
    "    print(\"|{:.2f} | {}| {:.3f} % |\".format(b, c, c / total * 100))\n",
    "    \n",
    "plt.bar(bins[:-1], count)\n",
    "plt.show()"
   ]
  }
 ],
 "metadata": {
  "kernelspec": {
   "display_name": "Python 3",
   "language": "python",
   "name": "python3"
  },
  "language_info": {
   "codemirror_mode": {
    "name": "ipython",
    "version": 3
   },
   "file_extension": ".py",
   "mimetype": "text/x-python",
   "name": "python",
   "nbconvert_exporter": "python",
   "pygments_lexer": "ipython3",
   "version": "3.5.2"
  },
  "widgets": {
   "state": {},
   "version": "1.1.2"
  }
 },
 "nbformat": 4,
 "nbformat_minor": 2
}
